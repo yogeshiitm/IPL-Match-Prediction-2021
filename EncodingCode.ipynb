{
 "cells": [
  {
   "cell_type": "markdown",
   "metadata": {},
   "source": [
    "# Train data One-Hot Encoding"
   ]
  },
  {
   "cell_type": "code",
   "execution_count": 1,
   "metadata": {
    "id": "Pk6__Dv8mn8a"
   },
   "outputs": [],
   "source": [
    "import numpy as np\n",
    "import matplotlib.pyplot as plt\n",
    "import pandas as pd\n",
    "pd.options.mode.chained_assignment = None  # default='warn'\n",
    "dataset = pd.read_csv('all_matches.csv')"
   ]
  },
  {
   "cell_type": "code",
   "execution_count": 2,
   "metadata": {},
   "outputs": [],
   "source": [
    "df1 = pd.read_csv('input_train_data.csv')"
   ]
  },
  {
   "cell_type": "code",
   "execution_count": 3,
   "metadata": {},
   "outputs": [],
   "source": [
    "for i in sorted(dataset.venue.unique()):\n",
    "    df1[i] = 0\n",
    "    \n",
    "for i in range(len(df1)):\n",
    "    df1[df1['venue'][i]][i] = 1"
   ]
  },
  {
   "cell_type": "code",
   "execution_count": 4,
   "metadata": {},
   "outputs": [],
   "source": [
    "for i in sorted(dataset.innings.unique()):\n",
    "    df1[i] = 0\n",
    "    \n",
    "for i in range(len(df1)):\n",
    "    df1[df1['innings'][i]][i] = 1"
   ]
  },
  {
   "cell_type": "code",
   "execution_count": 5,
   "metadata": {},
   "outputs": [],
   "source": [
    "for i in sorted(dataset.batting_team.unique()):\n",
    "    df1[i+'_batting'] = 0\n",
    "    \n",
    "for i in range(len(df1)):\n",
    "    df1[df1['batting_team'][i]+'_batting'][i] = 1"
   ]
  },
  {
   "cell_type": "code",
   "execution_count": 6,
   "metadata": {},
   "outputs": [],
   "source": [
    "for i in sorted(dataset.bowling_team.unique()):\n",
    "    df1[i+'_bowling'] = 0\n",
    "    \n",
    "for i in range(len(df1)):\n",
    "    df1[df1['bowling_team'][i]+'_bowling'][i] = 1"
   ]
  },
  {
   "cell_type": "code",
   "execution_count": 7,
   "metadata": {},
   "outputs": [],
   "source": [
    "for i in sorted(dataset.striker.unique()):\n",
    "    df1[i+'_batsman'] = 0\n",
    "    \n",
    "for i in range(len(df1)):\n",
    "    lst = df1['batsmen'][i].split(',')\n",
    "    for batsman in lst:\n",
    "        df1[batsman+'_batsman'][i] = 1"
   ]
  },
  {
   "cell_type": "code",
   "execution_count": 8,
   "metadata": {},
   "outputs": [],
   "source": [
    "for i in sorted(dataset.bowler.unique()):\n",
    "    df1[i+'_bowler'] = 0\n",
    "    \n",
    "for i in range(len(df1)):\n",
    "    lst = df1['bowlers'][i].split(',')\n",
    "    for bowler in lst:\n",
    "        df1[bowler+'_bowler'][i] = 1\n",
    "\n",
    "df1.to_csv('encoded_train_data.csv')"
   ]
  },
  {
   "cell_type": "markdown",
   "metadata": {},
   "source": [
    "# Test Case One-Hot Encoding"
   ]
  },
  {
   "cell_type": "code",
   "execution_count": 9,
   "metadata": {},
   "outputs": [],
   "source": [
    "df2 = pd.read_csv('input_test_data.csv')"
   ]
  },
  {
   "cell_type": "code",
   "execution_count": 10,
   "metadata": {},
   "outputs": [],
   "source": [
    "for i in sorted(dataset.venue.unique()):\n",
    "    df2[i] = 0\n",
    "    \n",
    "for i in range(len(df2)):\n",
    "    df2[df2['venue'][i]][i] = 1"
   ]
  },
  {
   "cell_type": "code",
   "execution_count": 11,
   "metadata": {},
   "outputs": [],
   "source": [
    "for i in sorted(dataset.innings.unique()):\n",
    "    df2[i] = 0\n",
    "    \n",
    "for i in range(len(df2)):\n",
    "    df2[df2['innings'][i]][i] = 1"
   ]
  },
  {
   "cell_type": "code",
   "execution_count": 12,
   "metadata": {},
   "outputs": [],
   "source": [
    "for i in sorted(dataset.batting_team.unique()):\n",
    "    df2[i+'_batting'] = 0\n",
    "    \n",
    "for i in range(len(df2)):\n",
    "    df2[df2['batting_team'][i]+'_batting'][i] = 1"
   ]
  },
  {
   "cell_type": "code",
   "execution_count": 13,
   "metadata": {},
   "outputs": [],
   "source": [
    "for i in sorted(dataset.bowling_team.unique()):\n",
    "    df2[i+'_bowling'] = 0\n",
    "    \n",
    "for i in range(len(df2)):\n",
    "    df2[df2['bowling_team'][i]+'_bowling'][i] = 1"
   ]
  },
  {
   "cell_type": "code",
   "execution_count": 14,
   "metadata": {},
   "outputs": [],
   "source": [
    "for i in sorted(dataset.striker.unique()):\n",
    "    df2[i+'_batsman'] = 0\n",
    "    \n",
    "for i in range(len(df2)):\n",
    "    lst = df2['batsmen'][i].split(', ')\n",
    "    #print(lst)\n",
    "    for batsman in lst:\n",
    "        df2[batsman+'_batsman'] = 1"
   ]
  },
  {
   "cell_type": "code",
   "execution_count": 15,
   "metadata": {},
   "outputs": [],
   "source": [
    "for i in sorted(dataset.bowler.unique()):\n",
    "    df2[i+'_bowler'] = 0\n",
    "    \n",
    "for i in range(len(df2)):\n",
    "    lst = df2['bowlers'][i].split(',')\n",
    "    for bowler in lst:\n",
    "        df2[bowler+'_bowler'] = 1\n",
    "\n",
    "df2.to_csv('encoded_test_data.csv')"
   ]
  }
 ],
 "metadata": {
  "colab": {
   "collapsed_sections": [],
   "name": "Model1.ipynb",
   "provenance": []
  },
  "kernelspec": {
   "display_name": "Python 3",
   "language": "python",
   "name": "python3"
  },
  "language_info": {
   "codemirror_mode": {
    "name": "ipython",
    "version": 3
   },
   "file_extension": ".py",
   "mimetype": "text/x-python",
   "name": "python",
   "nbconvert_exporter": "python",
   "pygments_lexer": "ipython3",
   "version": "3.7.6"
  }
 },
 "nbformat": 4,
 "nbformat_minor": 4
}
